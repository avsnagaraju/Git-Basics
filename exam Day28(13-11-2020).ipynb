{
 "cells": [
  {
   "cell_type": "code",
   "execution_count": 2,
   "metadata": {},
   "outputs": [
    {
     "name": "stdout",
     "output_type": "stream",
     "text": [
      "2\n",
      "2\n"
     ]
    }
   ],
   "source": [
    "#Q=>1\n",
    "def factorial(n):\n",
    "    if n == 0:\n",
    "        return 1\n",
    "    else:\n",
    "        return n * factorial(n-1)\n",
    "n=int(input(\"\"))\n",
    "print(factorial(n))"
   ]
  },
  {
   "cell_type": "code",
   "execution_count": null,
   "metadata": {},
   "outputs": [],
   "source": [
    "#Q\n",
    "char alphabets[]=\" abcdefghijklmnopqrstuvwxyz\"\n",
    " \n",
    "def allpossible(str *number,  index,  n): \n",
    " \n",
    "\n",
    " \n",
    "    str number[50] \n",
    "    cin>>number \n",
    " \n",
    " def   allpossible(number, 0, strlen(number)):\n",
    " \n",
    "    return 0\n",
    "\n",
    " \n",
    "def allpossible(str *number,  index,  n): \n",
    "\n",
    "     str s[50]=\"\" \n",
    "      i=0 \n",
    " \n",
    "    if(index==n): \n",
    "    \n",
    "        cout<<s<<endl\n",
    "        return\n",
    "    \n",
    " \n",
    "     numformed\n",
    " \n",
    "    numformed=number[index]-'0'\n",
    " \n",
    "    if(numformed>0): \n",
    "    \n",
    "        s[i++]=alphabets[numformed]\n",
    "        s[i]='\\0' \n",
    "        allpossible(number, index+1, n) \n",
    "        i--\n",
    "        if(n-index>1): \n",
    "         \n",
    "            numformed=(number[index]-'0')*10 + number[index+1]-'0'\n",
    "            if(numformed<27): \n",
    "             \n",
    "                s[i++]=alphabets[numformed]\n",
    "                s[i]='\\0'\n",
    "                allpossible(number, index+2, n) \n",
    "                i-- \n",
    "            \n",
    "         \n",
    "     \n"
   ]
  },
  {
   "cell_type": "code",
   "execution_count": null,
   "metadata": {},
   "outputs": [],
   "source": []
  }
 ],
 "metadata": {
  "kernelspec": {
   "display_name": "Python 3",
   "language": "python",
   "name": "python3"
  },
  "language_info": {
   "codemirror_mode": {
    "name": "ipython",
    "version": 3
   },
   "file_extension": ".py",
   "mimetype": "text/x-python",
   "name": "python",
   "nbconvert_exporter": "python",
   "pygments_lexer": "ipython3",
   "version": "3.7.4"
  }
 },
 "nbformat": 4,
 "nbformat_minor": 4
}
